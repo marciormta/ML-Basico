{
 "cells": [
  {
   "cell_type": "code",
   "execution_count": 1,
   "id": "4e1ed29c",
   "metadata": {},
   "outputs": [],
   "source": [
    "from numpy import *\n",
    "\n",
    "class LinearRegression:\n",
    "    def __init__(self, x, y):\n",
    "      self.x = x\n",
    "      self.y = y\n",
    "      self.__correlation_coefficient =  self.__correlacao()\n",
    "      self.__inclination = self.__inclinacao()\n",
    "      self.__intercept = self.__interceptacao()\n",
    "\n",
    "    def __correlacao(self):\n",
    "      covariacao = cov(self.x, self.y, bias=True)[0][1]\n",
    "      variancia_x = var(self.x)\n",
    "      variancia_y = var(self.y)\n",
    "      return covariacao / sqrt(variancia_x * variancia_y)\n",
    "\n",
    "    def __inclinacao(self):\n",
    "      stdx = std(self.x)\n",
    "      stdy = std(self.y)\n",
    "      return self.__correlation_coefficient * (stdy / stdx)\n",
    "\n",
    "    def __interceptacao(self):\n",
    "      mediax = mean(self.x)\n",
    "      mediay = mean(self.y)\n",
    "      return mediay - mediax * self.__inclination\n",
    "\n",
    "    def previsao(self,valor):\n",
    "      return self.__intercept + (self.__inclination * valor)"
   ]
  },
  {
   "cell_type": "code",
   "execution_count": 2,
   "id": "67cf7fde",
   "metadata": {},
   "outputs": [
    {
     "name": "stdout",
     "output_type": "stream",
     "text": [
      "12.0\n"
     ]
    }
   ],
   "source": [
    "# Qual seria o valor correspondente de y, se x fosse 6 ?\n",
    "x = array([1,2,3,4,5])\n",
    "y = array([2,4,6,8,10])\n",
    "\n",
    "lr = LinearRegression(x,y)\n",
    "previsao = lr.previsao(6)\n",
    "print(previsao)"
   ]
  },
  {
   "cell_type": "code",
   "execution_count": null,
   "id": "50296770",
   "metadata": {},
   "outputs": [],
   "source": []
  }
 ],
 "metadata": {
  "kernelspec": {
   "display_name": "Python 3 (ipykernel)",
   "language": "python",
   "name": "python3"
  },
  "language_info": {
   "codemirror_mode": {
    "name": "ipython",
    "version": 3
   },
   "file_extension": ".py",
   "mimetype": "text/x-python",
   "name": "python",
   "nbconvert_exporter": "python",
   "pygments_lexer": "ipython3",
   "version": "3.11.1"
  }
 },
 "nbformat": 4,
 "nbformat_minor": 5
}
